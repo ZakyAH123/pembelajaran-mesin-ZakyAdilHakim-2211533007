{
  "nbformat": 4,
  "nbformat_minor": 0,
  "metadata": {
    "colab": {
      "provenance": [],
      "authorship_tag": "ABX9TyNUaHK3/gh9LAksNN7hrPr+",
      "include_colab_link": true
    },
    "kernelspec": {
      "name": "python3",
      "display_name": "Python 3"
    },
    "language_info": {
      "name": "python"
    }
  },
  "cells": [
    {
      "cell_type": "markdown",
      "metadata": {
        "id": "view-in-github",
        "colab_type": "text"
      },
      "source": [
        "<a href=\"https://colab.research.google.com/github/ZakyAH123/pembelajaran-mesin-ZakyAdilHakim-2211533007/blob/main/TestPraktikumML.ipynb\" target=\"_parent\"><img src=\"https://colab.research.google.com/assets/colab-badge.svg\" alt=\"Open In Colab\"/></a>"
      ]
    },
    {
      "cell_type": "code",
      "execution_count": null,
      "metadata": {
        "id": "rAm0iHoK7OYI"
      },
      "outputs": [],
      "source": [
        "import numpy as np\n",
        "import seaborn as sb\n",
        "#ajsod"
      ]
    },
    {
      "cell_type": "code",
      "source": [],
      "metadata": {
        "id": "ql-n7JzP8hqA"
      },
      "execution_count": null,
      "outputs": []
    }
  ]
}